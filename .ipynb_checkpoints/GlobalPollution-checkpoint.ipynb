{
 "cells": [
  {
   "cell_type": "code",
   "execution_count": 2,
   "id": "2802899e-b8cf-43de-ad0d-c7c3c9ba0dd7",
   "metadata": {},
   "outputs": [],
   "source": [
    "import pandas as pd\n"
   ]
  },
  {
   "cell_type": "code",
   "execution_count": 17,
   "id": "a914a161-b1d4-4a1b-85e4-84b493d4cfd1",
   "metadata": {},
   "outputs": [],
   "source": [
    "pollution_df = pd.read_csv('pollution.csv')\n",
    "population_df = pd.read_csv('population.csv')"
   ]
  },
  {
   "cell_type": "code",
   "execution_count": 18,
   "id": "a9e85757-f748-43e8-a773-4490e342bc4a",
   "metadata": {},
   "outputs": [
    {
     "data": {
      "text/html": [
       "<div>\n",
       "<style scoped>\n",
       "    .dataframe tbody tr th:only-of-type {\n",
       "        vertical-align: middle;\n",
       "    }\n",
       "\n",
       "    .dataframe tbody tr th {\n",
       "        vertical-align: top;\n",
       "    }\n",
       "\n",
       "    .dataframe thead th {\n",
       "        text-align: right;\n",
       "    }\n",
       "</style>\n",
       "<table border=\"1\" class=\"dataframe\">\n",
       "  <thead>\n",
       "    <tr style=\"text-align: right;\">\n",
       "      <th></th>\n",
       "      <th>Rank</th>\n",
       "      <th>Country</th>\n",
       "      <th>Population2023</th>\n",
       "      <th>YearlyChange</th>\n",
       "      <th>NetChange</th>\n",
       "      <th>Density(P/Km²)</th>\n",
       "      <th>Land Area(Km²)</th>\n",
       "      <th>Migrants(net)</th>\n",
       "      <th>Fert.Rate</th>\n",
       "      <th>MedianAge</th>\n",
       "      <th>UrbanPop%</th>\n",
       "      <th>WorldShare</th>\n",
       "    </tr>\n",
       "  </thead>\n",
       "  <tbody>\n",
       "    <tr>\n",
       "      <th>0</th>\n",
       "      <td>36</td>\n",
       "      <td>Afghanistan</td>\n",
       "      <td>42239854</td>\n",
       "      <td>2.70 %</td>\n",
       "      <td>1111083</td>\n",
       "      <td>65</td>\n",
       "      <td>652860</td>\n",
       "      <td>-65846</td>\n",
       "      <td>4.4</td>\n",
       "      <td>17.0</td>\n",
       "      <td>26 %</td>\n",
       "      <td>0.53 %</td>\n",
       "    </tr>\n",
       "    <tr>\n",
       "      <th>1</th>\n",
       "      <td>138</td>\n",
       "      <td>Albania</td>\n",
       "      <td>2832439</td>\n",
       "      <td>-0.35 %</td>\n",
       "      <td>-9882</td>\n",
       "      <td>103</td>\n",
       "      <td>27400</td>\n",
       "      <td>-8000</td>\n",
       "      <td>1.4</td>\n",
       "      <td>38.0</td>\n",
       "      <td>67 %</td>\n",
       "      <td>0.04 %</td>\n",
       "    </tr>\n",
       "    <tr>\n",
       "      <th>2</th>\n",
       "      <td>34</td>\n",
       "      <td>Algeria</td>\n",
       "      <td>45606480</td>\n",
       "      <td>1.57 %</td>\n",
       "      <td>703255</td>\n",
       "      <td>19</td>\n",
       "      <td>2381740</td>\n",
       "      <td>-9999</td>\n",
       "      <td>2.8</td>\n",
       "      <td>28.0</td>\n",
       "      <td>75 %</td>\n",
       "      <td>0.57 %</td>\n",
       "    </tr>\n",
       "    <tr>\n",
       "      <th>3</th>\n",
       "      <td>212</td>\n",
       "      <td>American Samoa</td>\n",
       "      <td>43914</td>\n",
       "      <td>-0.81 %</td>\n",
       "      <td>-359</td>\n",
       "      <td>220</td>\n",
       "      <td>200</td>\n",
       "      <td>-790</td>\n",
       "      <td>2.2</td>\n",
       "      <td>29.0</td>\n",
       "      <td>N.A.</td>\n",
       "      <td>0.00 %</td>\n",
       "    </tr>\n",
       "    <tr>\n",
       "      <th>4</th>\n",
       "      <td>202</td>\n",
       "      <td>Andorra</td>\n",
       "      <td>80088</td>\n",
       "      <td>0.33 %</td>\n",
       "      <td>264</td>\n",
       "      <td>170</td>\n",
       "      <td>470</td>\n",
       "      <td>200</td>\n",
       "      <td>1.1</td>\n",
       "      <td>43.0</td>\n",
       "      <td>85 %</td>\n",
       "      <td>0.00 %</td>\n",
       "    </tr>\n",
       "  </tbody>\n",
       "</table>\n",
       "</div>"
      ],
      "text/plain": [
       "   Rank         Country  Population2023 YearlyChange  NetChange  \\\n",
       "0    36     Afghanistan        42239854       2.70 %    1111083   \n",
       "1   138         Albania         2832439      -0.35 %      -9882   \n",
       "2    34         Algeria        45606480       1.57 %     703255   \n",
       "3   212  American Samoa           43914      -0.81 %       -359   \n",
       "4   202         Andorra           80088       0.33 %        264   \n",
       "\n",
       "   Density(P/Km²)  Land Area(Km²)  Migrants(net)  Fert.Rate  MedianAge  \\\n",
       "0              65          652860         -65846        4.4       17.0   \n",
       "1             103           27400          -8000        1.4       38.0   \n",
       "2              19         2381740          -9999        2.8       28.0   \n",
       "3             220             200           -790        2.2       29.0   \n",
       "4             170             470            200        1.1       43.0   \n",
       "\n",
       "  UrbanPop% WorldShare  \n",
       "0      26 %     0.53 %  \n",
       "1      67 %     0.04 %  \n",
       "2      75 %     0.57 %  \n",
       "3      N.A.     0.00 %  \n",
       "4      85 %     0.00 %  "
      ]
     },
     "execution_count": 18,
     "metadata": {},
     "output_type": "execute_result"
    }
   ],
   "source": [
    "population_df.head()"
   ]
  },
  {
   "cell_type": "code",
   "execution_count": 24,
   "id": "68e61a25-2a9a-43ba-bb8a-be9c2d3466a3",
   "metadata": {},
   "outputs": [
    {
     "data": {
      "text/plain": [
       "234"
      ]
     },
     "execution_count": 24,
     "metadata": {},
     "output_type": "execute_result"
    }
   ],
   "source": [
    "population_df['Country'].nunique()"
   ]
  },
  {
   "cell_type": "code",
   "execution_count": 26,
   "id": "1f9be485-92c0-423b-8e93-aea7829fd530",
   "metadata": {},
   "outputs": [
    {
     "data": {
      "text/plain": [
       "175"
      ]
     },
     "execution_count": 26,
     "metadata": {},
     "output_type": "execute_result"
    }
   ],
   "source": [
    "pollution_df['Country'].nunique()"
   ]
  },
  {
   "cell_type": "code",
   "execution_count": null,
   "id": "d6530a78-3290-4105-9626-2a75abd4b303",
   "metadata": {},
   "outputs": [],
   "source": []
  }
 ],
 "metadata": {
  "kernelspec": {
   "display_name": "Python 3 (ipykernel)",
   "language": "python",
   "name": "python3"
  },
  "language_info": {
   "codemirror_mode": {
    "name": "ipython",
    "version": 3
   },
   "file_extension": ".py",
   "mimetype": "text/x-python",
   "name": "python",
   "nbconvert_exporter": "python",
   "pygments_lexer": "ipython3",
   "version": "3.11.7"
  }
 },
 "nbformat": 4,
 "nbformat_minor": 5
}
