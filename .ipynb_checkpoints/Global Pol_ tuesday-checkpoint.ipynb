{
 "cells": [
  {
   "cell_type": "code",
   "execution_count": 1,
   "id": "819cbf31-32e6-485a-8087-6649b86ec656",
   "metadata": {},
   "outputs": [
    {
     "name": "stdout",
     "output_type": "stream",
     "text": [
      "              Country              City  AQI Value AQI Category  CO AQI Value  \\\n",
      "0  Russian Federation        Praskoveya         51     Moderate             1   \n",
      "1              Brazil  Presidente Dutra         41         Good             1   \n",
      "2               Italy   Priolo Gargallo         66     Moderate             1   \n",
      "3              Poland         Przasnysz         34         Good             1   \n",
      "4              France          Punaauia         22         Good             0   \n",
      "\n",
      "  CO AQI Category  Ozone AQI Value Ozone AQI Category  NO2 AQI Value  \\\n",
      "0            Good               36               Good              0   \n",
      "1            Good                5               Good              1   \n",
      "2            Good               39               Good              2   \n",
      "3            Good               34               Good              0   \n",
      "4            Good               22               Good              0   \n",
      "\n",
      "  NO2 AQI Category  PM2.5 AQI Value PM2.5 AQI Category  \n",
      "0             Good               51           Moderate  \n",
      "1             Good               41               Good  \n",
      "2             Good               66           Moderate  \n",
      "3             Good               20               Good  \n",
      "4             Good                6               Good  \n",
      "   Rank         Country  Population2023 YearlyChange  NetChange  \\\n",
      "0    36     Afghanistan        42239854       2.70 %    1111083   \n",
      "1   138         Albania         2832439      -0.35 %      -9882   \n",
      "2    34         Algeria        45606480       1.57 %     703255   \n",
      "3   212  American Samoa           43914      -0.81 %       -359   \n",
      "4   202         Andorra           80088       0.33 %        264   \n",
      "\n",
      "   Density(P/Km²)  Land Area(Km²)  Migrants(net)  Fert.Rate  MedianAge  \\\n",
      "0              65          652860         -65846        4.4       17.0   \n",
      "1             103           27400          -8000        1.4       38.0   \n",
      "2              19         2381740          -9999        2.8       28.0   \n",
      "3             220             200           -790        2.2       29.0   \n",
      "4             170             470            200        1.1       43.0   \n",
      "\n",
      "  UrbanPop% WorldShare  \n",
      "0      26 %     0.53 %  \n",
      "1      67 %     0.04 %  \n",
      "2      75 %     0.57 %  \n",
      "3      N.A.     0.00 %  \n",
      "4      85 %     0.00 %  \n"
     ]
    }
   ],
   "source": [
    "import pandas as pd\n",
    "\n",
    "# Load Air Pollution data\n",
    "\n",
    "air_pollution_df = pd.read_csv('pollution.csv')\n",
    "\n",
    "# Load Population data\n",
    "population_df = pd.read_csv('population.csv')\n",
    "\n",
    "# Display the first few rows of each dataframe\n",
    "print(air_pollution_df.head())\n",
    "print(population_df.head())\n",
    "#Understand the Structure of the Datasets\n"
   ]
  },
  {
   "cell_type": "code",
   "execution_count": 8,
   "id": "d5b756c9-0920-41d3-babe-dc17b4db1aca",
   "metadata": {},
   "outputs": [
    {
     "data": {
      "text/html": [
       "<div>\n",
       "<style scoped>\n",
       "    .dataframe tbody tr th:only-of-type {\n",
       "        vertical-align: middle;\n",
       "    }\n",
       "\n",
       "    .dataframe tbody tr th {\n",
       "        vertical-align: top;\n",
       "    }\n",
       "\n",
       "    .dataframe thead th {\n",
       "        text-align: right;\n",
       "    }\n",
       "</style>\n",
       "<table border=\"1\" class=\"dataframe\">\n",
       "  <thead>\n",
       "    <tr style=\"text-align: right;\">\n",
       "      <th></th>\n",
       "      <th>Rank</th>\n",
       "      <th>Country</th>\n",
       "      <th>Population2023</th>\n",
       "      <th>YearlyChange</th>\n",
       "      <th>NetChange</th>\n",
       "      <th>Density(P/Km²)</th>\n",
       "      <th>Land Area(Km²)</th>\n",
       "      <th>Migrants(net)</th>\n",
       "      <th>Fert.Rate</th>\n",
       "      <th>MedianAge</th>\n",
       "      <th>UrbanPop%</th>\n",
       "      <th>WorldShare</th>\n",
       "    </tr>\n",
       "  </thead>\n",
       "  <tbody>\n",
       "    <tr>\n",
       "      <th>0</th>\n",
       "      <td>36</td>\n",
       "      <td>Afghanistan</td>\n",
       "      <td>42239854</td>\n",
       "      <td>2.70 %</td>\n",
       "      <td>1111083</td>\n",
       "      <td>65</td>\n",
       "      <td>652860</td>\n",
       "      <td>-65846</td>\n",
       "      <td>4.4</td>\n",
       "      <td>17.0</td>\n",
       "      <td>26 %</td>\n",
       "      <td>0.53 %</td>\n",
       "    </tr>\n",
       "  </tbody>\n",
       "</table>\n",
       "</div>"
      ],
      "text/plain": [
       "   Rank      Country  Population2023 YearlyChange  NetChange  Density(P/Km²)  \\\n",
       "0    36  Afghanistan        42239854       2.70 %    1111083              65   \n",
       "\n",
       "   Land Area(Km²)  Migrants(net)  Fert.Rate  MedianAge UrbanPop% WorldShare  \n",
       "0          652860         -65846        4.4       17.0      26 %     0.53 %  "
      ]
     },
     "execution_count": 8,
     "metadata": {},
     "output_type": "execute_result"
    }
   ],
   "source": [
    "population_df.head(1)"
   ]
  },
  {
   "cell_type": "code",
   "execution_count": 14,
   "id": "cfed0208-2e58-423d-b94b-70d1f7213ece",
   "metadata": {},
   "outputs": [
    {
     "name": "stdout",
     "output_type": "stream",
     "text": [
      "<class 'pandas.core.frame.DataFrame'>\n",
      "RangeIndex: 23463 entries, 0 to 23462\n",
      "Data columns (total 12 columns):\n",
      " #   Column              Non-Null Count  Dtype \n",
      "---  ------              --------------  ----- \n",
      " 0   Country             23036 non-null  object\n",
      " 1   City                23462 non-null  object\n",
      " 2   AQI Value           23463 non-null  int64 \n",
      " 3   AQI Category        23463 non-null  object\n",
      " 4   CO AQI Value        23463 non-null  int64 \n",
      " 5   CO AQI Category     23463 non-null  object\n",
      " 6   Ozone AQI Value     23463 non-null  int64 \n",
      " 7   Ozone AQI Category  23463 non-null  object\n",
      " 8   NO2 AQI Value       23463 non-null  int64 \n",
      " 9   NO2 AQI Category    23463 non-null  object\n",
      " 10  PM2.5 AQI Value     23463 non-null  int64 \n",
      " 11  PM2.5 AQI Category  23463 non-null  object\n",
      "dtypes: int64(5), object(7)\n",
      "memory usage: 2.1+ MB\n"
     ]
    }
   ],
   "source": [
    "air_pollution_df.info()"
   ]
  },
  {
   "cell_type": "code",
   "execution_count": 5,
   "id": "1fb7bcf8-ea6f-4569-87de-92bf05a8277e",
   "metadata": {},
   "outputs": [
    {
     "name": "stdout",
     "output_type": "stream",
     "text": [
      "\n",
      "Countries in Air Pollution data but not in Population data:\n",
      "{'Iran (Islamic Republic of)', \"Lao People's Democratic Republic\", 'Syrian Arab Republic', 'Democratic Republic of the Congo', 'Saint Kitts and Nevis', 'Czechia', 'United States of America', 'Kingdom of Eswatini', 'Republic of North Macedonia', 'United Kingdom of Great Britain and Northern Ireland', 'Republic of Moldova', 'United Republic of Tanzania', 'Republic of Korea', 'Venezuela (Bolivarian Republic of)', 'Russian Federation', nan, 'Bolivia (Plurinational State of)', 'Viet Nam'}\n",
      "\n",
      "Countries in Population data but not in Air Pollution data:\n",
      "{'Montserrat', 'French Polynesia', 'Sao Tome & Principe', 'South Korea', 'Hong Kong', 'Falkland Islands', 'Micronesia', 'Mayotte', 'North Korea', 'Moldova', 'Guam', 'Réunion', 'Antigua and Barbuda', 'United Kingdom', 'Fiji', 'San Marino', 'Marshall Islands', 'North Macedonia', 'Brunei ', 'Dominica', 'Saint Pierre & Miquelon', 'Gibraltar', 'Caribbean Netherlands', 'Faeroe Islands', 'Turks and Caicos', 'United States', 'Iran', 'Anguilla', 'Tonga', 'American Samoa', 'Greenland', 'Laos', 'Puerto Rico', 'Sint Maarten', 'Holy See', 'St. Vincent & Grenadines', 'New Caledonia', 'Taiwan', 'Saint Helena', 'Syria', 'Saint Barthelemy', 'Djibouti', 'Niue', 'Macao', 'Saint Kitts & Nevis', 'Venezuela', 'Isle of Man', 'Eswatini', 'Grenada', 'French Guiana', 'Kiribati', 'Bermuda', 'Tokelau', 'U.S. Virgin Islands', 'Vietnam', 'Timor-Leste', 'Saint Martin', 'Tuvalu', 'Cook Islands', 'Wallis & Futuna', 'Northern Mariana Islands', 'Bahamas', 'Czech Republic (Czechia)', 'Bolivia', 'Nauru', 'Curaçao', 'DR Congo', 'Liechtenstein', 'Russia', 'Cayman Islands', 'British Virgin Islands', 'Tanzania', 'Guadeloupe', 'Samoa', 'Martinique', 'Western Sahara'}\n",
      "\n",
      "Countries in Air Pollution data but not in Population data after mapping:\n",
      "{'Republic of Moldova', nan, 'Saint Kitts and Nevis', 'Kingdom of Eswatini'}\n",
      "\n",
      "Countries in Population data but not in Air Pollution data after mapping:\n",
      "{'Montserrat', 'French Polynesia', 'Sao Tome & Principe', 'Swaziland', 'Hong Kong', 'Falkland Islands', 'Micronesia', 'Mayotte', 'North Korea', 'Moldova', 'Guam', 'Réunion', 'Antigua and Barbuda', 'Fiji', 'San Marino', 'Marshall Islands', 'Brunei ', 'Dominica', 'Saint Pierre & Miquelon', 'Gibraltar', 'Caribbean Netherlands', 'Faeroe Islands', 'Turks and Caicos', 'Puerto Rico', 'Anguilla', 'Greenland', 'Tonga', 'American Samoa', 'Sint Maarten', 'Holy See', 'St. Vincent & Grenadines', 'New Caledonia', 'Taiwan', 'Saint Helena', 'Saint Barthelemy', 'Djibouti', 'Niue', 'Macao', 'Saint Kitts & Nevis', 'Isle of Man', 'Grenada', 'French Guiana', 'Kiribati', 'Bermuda', 'Tokelau', 'U.S. Virgin Islands', 'Timor-Leste', 'Saint Martin', 'Tuvalu', 'Cook Islands', 'Northern Mariana Islands', 'Bahamas', 'Nauru', 'Curaçao', 'Cayman Islands', 'Liechtenstein', 'British Virgin Islands', 'Wallis & Futuna', 'Guadeloupe', 'Samoa', 'Martinique', 'Western Sahara'}\n"
     ]
    }
   ],
   "source": [
    "\n",
    "# Extract unique country names from both datasets\n",
    "pollution_countries = set(air_pollution_df['Country'].unique())\n",
    "population_countries = set(population_df['Country'].unique())\n",
    "\n",
    "# Find the differences between the two sets of country names\n",
    "countries_in_pollution_not_population = pollution_countries - population_countries\n",
    "countries_in_population_not_pollution = population_countries - pollution_countries\n",
    "\n",
    "# Display the differences\n",
    "print(\"\\nCountries in Air Pollution data but not in Population data:\")\n",
    "print(countries_in_pollution_not_population)\n",
    "\n",
    "print(\"\\nCountries in Population data but not in Air Pollution data:\")\n",
    "print(countries_in_population_not_pollution)\n",
    "\n",
    "# Mapping for different country names\n",
    "mapping = {\n",
    "    'Russian Federation': 'Russia',\n",
    "    'United States of America': 'United States',\n",
    "    'Republic of North Macedonia': 'North Macedonia',\n",
    "    'United Kingdom of Great Britain and Northern Ireland': 'United Kingdom',\n",
    "    'United Republic of Tanzania': 'Tanzania',\n",
    "    'Viet Nam': 'Vietnam',\n",
    "    'Iran (Islamic Republic of)': 'Iran',\n",
    "    'Democratic Republic of the Congo': 'DR Congo',\n",
    "    'Czechia': 'Czech Republic (Czechia)',\n",
    "    \"Côte d'Ivoire\": \"Côte d'Ivoire\",\n",
    "    'Republic of Korea': 'South Korea',\n",
    "    'Syrian Arab Republic': 'Syria',\n",
    "    \"Lao People's Democratic Republic\": 'Laos',\n",
    "    'Bolivia (Plurinational State of)': 'Bolivia',\n",
    "    'Venezuela (Bolivarian Republic of)': 'Venezuela',\n",
    "    'State of Palestine': 'Palestine',\n",
    "    'Myanmar': 'Burma',  # Assuming Myanmar is referred to as Burma in one of the datasets\n",
    "    'Eswatini': 'Swaziland',  # Assuming Eswatini is referred to as Swaziland in one of the datasets\n",
    "}\n",
    "\n",
    "# Apply the mapping to align the country names\n",
    "air_pollution_df['Country'] = air_pollution_df['Country'].replace(mapping)\n",
    "population_df['Country'] = population_df['Country'].replace(mapping)\n",
    "\n",
    "# Recheck unique country names after mapping\n",
    "pollution_countries = set(air_pollution_df['Country'].unique())\n",
    "population_countries = set(population_df['Country'].unique())\n",
    "\n",
    "# Find the differences again after applying the mapping\n",
    "countries_in_pollution_not_population = pollution_countries - population_countries\n",
    "countries_in_population_not_pollution = population_countries - pollution_countries\n",
    "\n",
    "# Display the differences after mapping\n",
    "print(\"\\nCountries in Air Pollution data but not in Population data after mapping:\")\n",
    "print(countries_in_pollution_not_population)\n",
    "\n",
    "print(\"\\nCountries in Population data but not in Air Pollution data after mapping:\")\n",
    "print(countries_in_population_not_pollution)"
   ]
  },
  {
   "cell_type": "code",
   "execution_count": 6,
   "id": "3970966c-2a31-4241-bdc6-239f9680a093",
   "metadata": {},
   "outputs": [
    {
     "data": {
      "text/plain": [
       "175"
      ]
     },
     "execution_count": 6,
     "metadata": {},
     "output_type": "execute_result"
    }
   ],
   "source": [
    "air_pollution_df['Country'].nunique()\n"
   ]
  },
  {
   "cell_type": "code",
   "execution_count": 7,
   "id": "e7b76903-c813-4b3a-af0f-b0d0053a3819",
   "metadata": {},
   "outputs": [
    {
     "data": {
      "text/plain": [
       "234"
      ]
     },
     "execution_count": 7,
     "metadata": {},
     "output_type": "execute_result"
    }
   ],
   "source": [
    "population_df['Country'].nunique()"
   ]
  },
  {
   "cell_type": "code",
   "execution_count": 10,
   "id": "d70616e6-4889-437c-93af-547c62a35dd7",
   "metadata": {},
   "outputs": [],
   "source": [
    "df_2 = air_pollution_df\n",
    "df_1 = population_df \n",
    "merged_dataset = pd.merge(df_1, df_2, on='Country')"
   ]
  },
  {
   "cell_type": "code",
   "execution_count": 17,
   "id": "1551aa5a-dedf-4481-8108-5bcec4d7dc4b",
   "metadata": {},
   "outputs": [
    {
     "data": {
      "text/html": [
       "<div>\n",
       "<style scoped>\n",
       "    .dataframe tbody tr th:only-of-type {\n",
       "        vertical-align: middle;\n",
       "    }\n",
       "\n",
       "    .dataframe tbody tr th {\n",
       "        vertical-align: top;\n",
       "    }\n",
       "\n",
       "    .dataframe thead th {\n",
       "        text-align: right;\n",
       "    }\n",
       "</style>\n",
       "<table border=\"1\" class=\"dataframe\">\n",
       "  <thead>\n",
       "    <tr style=\"text-align: right;\">\n",
       "      <th></th>\n",
       "      <th>Rank</th>\n",
       "      <th>Country</th>\n",
       "      <th>Population2023</th>\n",
       "      <th>YearlyChange</th>\n",
       "      <th>NetChange</th>\n",
       "      <th>Density(P/Km²)</th>\n",
       "      <th>Land Area(Km²)</th>\n",
       "      <th>Migrants(net)</th>\n",
       "      <th>Fert.Rate</th>\n",
       "      <th>MedianAge</th>\n",
       "      <th>...</th>\n",
       "      <th>AQI Value</th>\n",
       "      <th>AQI Category</th>\n",
       "      <th>CO AQI Value</th>\n",
       "      <th>CO AQI Category</th>\n",
       "      <th>Ozone AQI Value</th>\n",
       "      <th>Ozone AQI Category</th>\n",
       "      <th>NO2 AQI Value</th>\n",
       "      <th>NO2 AQI Category</th>\n",
       "      <th>PM2.5 AQI Value</th>\n",
       "      <th>PM2.5 AQI Category</th>\n",
       "    </tr>\n",
       "  </thead>\n",
       "  <tbody>\n",
       "    <tr>\n",
       "      <th>0</th>\n",
       "      <td>36</td>\n",
       "      <td>Afghanistan</td>\n",
       "      <td>42239854</td>\n",
       "      <td>2.70 %</td>\n",
       "      <td>1111083</td>\n",
       "      <td>65</td>\n",
       "      <td>652860</td>\n",
       "      <td>-65846</td>\n",
       "      <td>4.4</td>\n",
       "      <td>17.0</td>\n",
       "      <td>...</td>\n",
       "      <td>151</td>\n",
       "      <td>Unhealthy</td>\n",
       "      <td>1</td>\n",
       "      <td>Good</td>\n",
       "      <td>41</td>\n",
       "      <td>Good</td>\n",
       "      <td>0</td>\n",
       "      <td>Good</td>\n",
       "      <td>151</td>\n",
       "      <td>Unhealthy</td>\n",
       "    </tr>\n",
       "    <tr>\n",
       "      <th>1</th>\n",
       "      <td>36</td>\n",
       "      <td>Afghanistan</td>\n",
       "      <td>42239854</td>\n",
       "      <td>2.70 %</td>\n",
       "      <td>1111083</td>\n",
       "      <td>65</td>\n",
       "      <td>652860</td>\n",
       "      <td>-65846</td>\n",
       "      <td>4.4</td>\n",
       "      <td>17.0</td>\n",
       "      <td>...</td>\n",
       "      <td>117</td>\n",
       "      <td>Unhealthy for Sensitive Groups</td>\n",
       "      <td>1</td>\n",
       "      <td>Good</td>\n",
       "      <td>44</td>\n",
       "      <td>Good</td>\n",
       "      <td>0</td>\n",
       "      <td>Good</td>\n",
       "      <td>117</td>\n",
       "      <td>Unhealthy for Sensitive Groups</td>\n",
       "    </tr>\n",
       "    <tr>\n",
       "      <th>2</th>\n",
       "      <td>36</td>\n",
       "      <td>Afghanistan</td>\n",
       "      <td>42239854</td>\n",
       "      <td>2.70 %</td>\n",
       "      <td>1111083</td>\n",
       "      <td>65</td>\n",
       "      <td>652860</td>\n",
       "      <td>-65846</td>\n",
       "      <td>4.4</td>\n",
       "      <td>17.0</td>\n",
       "      <td>...</td>\n",
       "      <td>113</td>\n",
       "      <td>Unhealthy for Sensitive Groups</td>\n",
       "      <td>1</td>\n",
       "      <td>Good</td>\n",
       "      <td>42</td>\n",
       "      <td>Good</td>\n",
       "      <td>0</td>\n",
       "      <td>Good</td>\n",
       "      <td>113</td>\n",
       "      <td>Unhealthy for Sensitive Groups</td>\n",
       "    </tr>\n",
       "    <tr>\n",
       "      <th>3</th>\n",
       "      <td>36</td>\n",
       "      <td>Afghanistan</td>\n",
       "      <td>42239854</td>\n",
       "      <td>2.70 %</td>\n",
       "      <td>1111083</td>\n",
       "      <td>65</td>\n",
       "      <td>652860</td>\n",
       "      <td>-65846</td>\n",
       "      <td>4.4</td>\n",
       "      <td>17.0</td>\n",
       "      <td>...</td>\n",
       "      <td>77</td>\n",
       "      <td>Moderate</td>\n",
       "      <td>1</td>\n",
       "      <td>Good</td>\n",
       "      <td>40</td>\n",
       "      <td>Good</td>\n",
       "      <td>0</td>\n",
       "      <td>Good</td>\n",
       "      <td>77</td>\n",
       "      <td>Moderate</td>\n",
       "    </tr>\n",
       "    <tr>\n",
       "      <th>4</th>\n",
       "      <td>36</td>\n",
       "      <td>Afghanistan</td>\n",
       "      <td>42239854</td>\n",
       "      <td>2.70 %</td>\n",
       "      <td>1111083</td>\n",
       "      <td>65</td>\n",
       "      <td>652860</td>\n",
       "      <td>-65846</td>\n",
       "      <td>4.4</td>\n",
       "      <td>17.0</td>\n",
       "      <td>...</td>\n",
       "      <td>67</td>\n",
       "      <td>Moderate</td>\n",
       "      <td>0</td>\n",
       "      <td>Good</td>\n",
       "      <td>37</td>\n",
       "      <td>Good</td>\n",
       "      <td>0</td>\n",
       "      <td>Good</td>\n",
       "      <td>67</td>\n",
       "      <td>Moderate</td>\n",
       "    </tr>\n",
       "  </tbody>\n",
       "</table>\n",
       "<p>5 rows × 23 columns</p>\n",
       "</div>"
      ],
      "text/plain": [
       "   Rank      Country  Population2023 YearlyChange  NetChange  Density(P/Km²)  \\\n",
       "0    36  Afghanistan        42239854       2.70 %    1111083              65   \n",
       "1    36  Afghanistan        42239854       2.70 %    1111083              65   \n",
       "2    36  Afghanistan        42239854       2.70 %    1111083              65   \n",
       "3    36  Afghanistan        42239854       2.70 %    1111083              65   \n",
       "4    36  Afghanistan        42239854       2.70 %    1111083              65   \n",
       "\n",
       "   Land Area(Km²)  Migrants(net)  Fert.Rate  MedianAge  ... AQI Value  \\\n",
       "0          652860         -65846        4.4       17.0  ...       151   \n",
       "1          652860         -65846        4.4       17.0  ...       117   \n",
       "2          652860         -65846        4.4       17.0  ...       113   \n",
       "3          652860         -65846        4.4       17.0  ...        77   \n",
       "4          652860         -65846        4.4       17.0  ...        67   \n",
       "\n",
       "                     AQI Category CO AQI Value  CO AQI Category  \\\n",
       "0                       Unhealthy            1             Good   \n",
       "1  Unhealthy for Sensitive Groups            1             Good   \n",
       "2  Unhealthy for Sensitive Groups            1             Good   \n",
       "3                        Moderate            1             Good   \n",
       "4                        Moderate            0             Good   \n",
       "\n",
       "  Ozone AQI Value  Ozone AQI Category NO2 AQI Value  NO2 AQI Category  \\\n",
       "0              41                Good             0              Good   \n",
       "1              44                Good             0              Good   \n",
       "2              42                Good             0              Good   \n",
       "3              40                Good             0              Good   \n",
       "4              37                Good             0              Good   \n",
       "\n",
       "  PM2.5 AQI Value              PM2.5 AQI Category  \n",
       "0             151                       Unhealthy  \n",
       "1             117  Unhealthy for Sensitive Groups  \n",
       "2             113  Unhealthy for Sensitive Groups  \n",
       "3              77                        Moderate  \n",
       "4              67                        Moderate  \n",
       "\n",
       "[5 rows x 23 columns]"
      ]
     },
     "execution_count": 17,
     "metadata": {},
     "output_type": "execute_result"
    }
   ],
   "source": [
    "merged_dataset.head()"
   ]
  },
  {
   "cell_type": "code",
   "execution_count": 43,
   "id": "f9f2456e-c41c-4ed1-8d33-c9b8c2abb1e1",
   "metadata": {},
   "outputs": [
    {
     "data": {
      "text/plain": [
       "Country            0\n",
       "Population2023     0\n",
       "Density(P/Km²)     0\n",
       "Land Area(Km²)     0\n",
       "UrbanPop%          0\n",
       "WorldShare         0\n",
       "City               0\n",
       "AQI Value          0\n",
       "CO AQI Value       0\n",
       "NO2 AQI Value      0\n",
       "PM2.5 AQI Value    0\n",
       "dtype: int64"
      ]
     },
     "execution_count": 43,
     "metadata": {},
     "output_type": "execute_result"
    }
   ],
   "source": [
    "merged_dataset.isnull().sum()"
   ]
  },
  {
   "cell_type": "code",
   "execution_count": 37,
   "id": "68253bf9-9b5b-4cd4-8048-322fc8e5b9b3",
   "metadata": {},
   "outputs": [],
   "source": [
    " merged_dataset.drop( 'AQI Category', \n",
    "                    axis=1, inplace=True)"
   ]
  },
  {
   "cell_type": "code",
   "execution_count": 40,
   "id": "bfa0b236-0344-4f61-9941-9e0c9735f5bc",
   "metadata": {},
   "outputs": [],
   "source": [
    "merged_dataset = merged_dataset[merged_dataset['City'].notna()]"
   ]
  },
  {
   "cell_type": "code",
   "execution_count": 42,
   "id": "1831e9b5-9624-483f-a038-33251e709f74",
   "metadata": {},
   "outputs": [
    {
     "data": {
      "text/plain": [
       "0"
      ]
     },
     "execution_count": 42,
     "metadata": {},
     "output_type": "execute_result"
    }
   ],
   "source": [
    "merged_dataset['Country'].isnull().sum()"
   ]
  },
  {
   "cell_type": "code",
   "execution_count": 48,
   "id": "3a597353-6f29-4dc4-809d-d4c2968d75f1",
   "metadata": {},
   "outputs": [],
   "source": [
    "merged_dataset.to_csv('merged_dataset.csv')"
   ]
  },
  {
   "cell_type": "code",
   "execution_count": null,
   "id": "8ddc8f9c-ecfe-4fc6-9004-9e9780c34c5f",
   "metadata": {},
   "outputs": [],
   "source": []
  }
 ],
 "metadata": {
  "kernelspec": {
   "display_name": "Python 3 (ipykernel)",
   "language": "python",
   "name": "python3"
  },
  "language_info": {
   "codemirror_mode": {
    "name": "ipython",
    "version": 3
   },
   "file_extension": ".py",
   "mimetype": "text/x-python",
   "name": "python",
   "nbconvert_exporter": "python",
   "pygments_lexer": "ipython3",
   "version": "3.11.7"
  }
 },
 "nbformat": 4,
 "nbformat_minor": 5
}
