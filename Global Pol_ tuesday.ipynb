{
 "cells": [
  {
   "cell_type": "code",
   "execution_count": 2,
   "id": "819cbf31-32e6-485a-8087-6649b86ec656",
   "metadata": {},
   "outputs": [
    {
     "name": "stdout",
     "output_type": "stream",
     "text": [
      "              Country              City  AQI Value AQI Category  CO AQI Value  \\\n",
      "0  Russian Federation        Praskoveya         51     Moderate             1   \n",
      "1              Brazil  Presidente Dutra         41         Good             1   \n",
      "2               Italy   Priolo Gargallo         66     Moderate             1   \n",
      "3              Poland         Przasnysz         34         Good             1   \n",
      "4              France          Punaauia         22         Good             0   \n",
      "\n",
      "  CO AQI Category  Ozone AQI Value Ozone AQI Category  NO2 AQI Value  \\\n",
      "0            Good               36               Good              0   \n",
      "1            Good                5               Good              1   \n",
      "2            Good               39               Good              2   \n",
      "3            Good               34               Good              0   \n",
      "4            Good               22               Good              0   \n",
      "\n",
      "  NO2 AQI Category  PM2.5 AQI Value PM2.5 AQI Category  \n",
      "0             Good               51           Moderate  \n",
      "1             Good               41               Good  \n",
      "2             Good               66           Moderate  \n",
      "3             Good               20               Good  \n",
      "4             Good                6               Good  \n",
      "   Rank         Country  Population2023 YearlyChange  NetChange  \\\n",
      "0    36     Afghanistan        42239854       2.70 %    1111083   \n",
      "1   138         Albania         2832439      -0.35 %      -9882   \n",
      "2    34         Algeria        45606480       1.57 %     703255   \n",
      "3   212  American Samoa           43914      -0.81 %       -359   \n",
      "4   202         Andorra           80088       0.33 %        264   \n",
      "\n",
      "   Density(P/Km²)  Land Area(Km²)  Migrants(net)  Fert.Rate  MedianAge  \\\n",
      "0              65          652860         -65846        4.4       17.0   \n",
      "1             103           27400          -8000        1.4       38.0   \n",
      "2              19         2381740          -9999        2.8       28.0   \n",
      "3             220             200           -790        2.2       29.0   \n",
      "4             170             470            200        1.1       43.0   \n",
      "\n",
      "  UrbanPop% WorldShare  \n",
      "0      26 %     0.53 %  \n",
      "1      67 %     0.04 %  \n",
      "2      75 %     0.57 %  \n",
      "3      N.A.     0.00 %  \n",
      "4      85 %     0.00 %  \n"
     ]
    }
   ],
   "source": [
    "import pandas as pd\n",
    "\n",
    "# Load Air Pollution data\n",
    "air_pollution_df = pd.read_csv('pollution.csv')\n",
    "\n",
    "# Load Population data\n",
    "population_df = pd.read_csv('population.csv')\n",
    "\n",
    "# Display the first few rows of each dataframe\n",
    "print(air_pollution_df.head())\n",
    "print(population_df.head())\n",
    "#Understand the Structure of the Datasets\n"
   ]
  },
  {
   "cell_type": "code",
   "execution_count": 3,
   "id": "d5b756c9-0920-41d3-babe-dc17b4db1aca",
   "metadata": {},
   "outputs": [
    {
     "ename": "NameError",
     "evalue": "name 'population' is not defined",
     "output_type": "error",
     "traceback": [
      "\u001b[0;31m---------------------------------------------------------------------------\u001b[0m",
      "\u001b[0;31mNameError\u001b[0m                                 Traceback (most recent call last)",
      "Cell \u001b[0;32mIn[3], line 1\u001b[0m\n\u001b[0;32m----> 1\u001b[0m population\u001b[38;5;241m.\u001b[39mcolumns\n",
      "\u001b[0;31mNameError\u001b[0m: name 'population' is not defined"
     ]
    }
   ],
   "source": [
    "population.columns"
   ]
  },
  {
   "cell_type": "code",
   "execution_count": 4,
   "id": "cfed0208-2e58-423d-b94b-70d1f7213ece",
   "metadata": {},
   "outputs": [
    {
     "data": {
      "text/plain": [
       "array(['Afghanistan', 'Albania', 'Algeria', 'American Samoa', 'Andorra',\n",
       "       'Angola', 'Anguilla', 'Antigua and Barbuda', 'Argentina',\n",
       "       'Armenia', 'Aruba', 'Australia', 'Austria', 'Azerbaijan',\n",
       "       'Bahamas', 'Bahrain', 'Bangladesh', 'Barbados', 'Belarus',\n",
       "       'Belgium', 'Belize', 'Benin', 'Bermuda', 'Bhutan', 'Bolivia',\n",
       "       'Bosnia and Herzegovina', 'Botswana', 'Brazil',\n",
       "       'British Virgin Islands', 'Brunei ', 'Bulgaria', 'Burkina Faso',\n",
       "       'Burundi', 'Cabo Verde', 'Cambodia', 'Cameroon', 'Canada',\n",
       "       'Caribbean Netherlands', 'Cayman Islands',\n",
       "       'Central African Republic', 'Chad', 'Chile', 'China', 'Colombia',\n",
       "       'Comoros', 'Congo', 'Cook Islands', 'Costa Rica', 'Croatia',\n",
       "       'Cuba', 'Curaçao', 'Cyprus', 'Czech Republic (Czechia)',\n",
       "       \"Côte d'Ivoire\", 'Denmark', 'Djibouti', 'Dominica',\n",
       "       'Dominican Republic', 'DR Congo', 'Ecuador', 'Egypt',\n",
       "       'El Salvador', 'Equatorial Guinea', 'Eritrea', 'Estonia',\n",
       "       'Eswatini', 'Ethiopia', 'Faeroe Islands', 'Falkland Islands',\n",
       "       'Fiji', 'Finland', 'France', 'French Guiana', 'French Polynesia',\n",
       "       'Gabon', 'Gambia', 'Georgia', 'Germany', 'Ghana', 'Gibraltar',\n",
       "       'Greece', 'Greenland', 'Grenada', 'Guadeloupe', 'Guam',\n",
       "       'Guatemala', 'Guinea', 'Guinea-Bissau', 'Guyana', 'Haiti',\n",
       "       'Holy See', 'Honduras', 'Hong Kong', 'Hungary', 'Iceland', 'India',\n",
       "       'Indonesia', 'Iran', 'Iraq', 'Ireland', 'Isle of Man', 'Israel',\n",
       "       'Italy', 'Jamaica', 'Japan', 'Jordan', 'Kazakhstan', 'Kenya',\n",
       "       'Kiribati', 'Kuwait', 'Kyrgyzstan', 'Laos', 'Latvia', 'Lebanon',\n",
       "       'Lesotho', 'Liberia', 'Libya', 'Liechtenstein', 'Lithuania',\n",
       "       'Luxembourg', 'Macao', 'Madagascar', 'Malawi', 'Malaysia',\n",
       "       'Maldives', 'Mali', 'Malta', 'Marshall Islands', 'Martinique',\n",
       "       'Mauritania', 'Mauritius', 'Mayotte', 'Mexico', 'Micronesia',\n",
       "       'Moldova', 'Monaco', 'Mongolia', 'Montenegro', 'Montserrat',\n",
       "       'Morocco', 'Mozambique', 'Myanmar', 'Namibia', 'Nauru', 'Nepal',\n",
       "       'Netherlands', 'New Caledonia', 'New Zealand', 'Nicaragua',\n",
       "       'Niger', 'Nigeria', 'Niue', 'North Korea', 'North Macedonia',\n",
       "       'Northern Mariana Islands', 'Norway', 'Oman', 'Pakistan', 'Palau',\n",
       "       'Panama', 'Papua New Guinea', 'Paraguay', 'Peru', 'Philippines',\n",
       "       'Poland', 'Portugal', 'Puerto Rico', 'Qatar', 'Romania', 'Russia',\n",
       "       'Rwanda', 'Réunion', 'Saint Barthelemy', 'Saint Helena',\n",
       "       'Saint Kitts & Nevis', 'Saint Lucia', 'Saint Martin',\n",
       "       'Saint Pierre & Miquelon', 'Samoa', 'San Marino',\n",
       "       'Sao Tome & Principe', 'Saudi Arabia', 'Senegal', 'Serbia',\n",
       "       'Seychelles', 'Sierra Leone', 'Singapore', 'Sint Maarten',\n",
       "       'Slovakia', 'Slovenia', 'Solomon Islands', 'Somalia',\n",
       "       'South Africa', 'South Korea', 'South Sudan', 'Spain', 'Sri Lanka',\n",
       "       'St. Vincent & Grenadines', 'State of Palestine', 'Sudan',\n",
       "       'Suriname', 'Sweden', 'Switzerland', 'Syria', 'Taiwan',\n",
       "       'Tajikistan', 'Tanzania', 'Thailand', 'Timor-Leste', 'Togo',\n",
       "       'Tokelau', 'Tonga', 'Trinidad and Tobago', 'Tunisia', 'Turkey',\n",
       "       'Turkmenistan', 'Turks and Caicos', 'Tuvalu',\n",
       "       'U.S. Virgin Islands', 'Uganda', 'Ukraine', 'United Arab Emirates',\n",
       "       'United Kingdom', 'United States', 'Uruguay', 'Uzbekistan',\n",
       "       'Vanuatu', 'Venezuela', 'Vietnam', 'Wallis & Futuna',\n",
       "       'Western Sahara', 'Yemen', 'Zambia', 'Zimbabwe'], dtype=object)"
      ]
     },
     "execution_count": 4,
     "metadata": {},
     "output_type": "execute_result"
    }
   ],
   "source": [
    "population_df[\"Country\"].unique()"
   ]
  },
  {
   "cell_type": "code",
   "execution_count": 5,
   "id": "1fb7bcf8-ea6f-4569-87de-92bf05a8277e",
   "metadata": {},
   "outputs": [
    {
     "name": "stdout",
     "output_type": "stream",
     "text": [
      "\n",
      "Countries in Air Pollution data but not in Population data:\n",
      "{'Syrian Arab Republic', 'Bolivia (Plurinational State of)', 'Republic of Korea', 'United States of America', 'Czechia', 'Saint Kitts and Nevis', 'Democratic Republic of the Congo', 'Kingdom of Eswatini', 'Iran (Islamic Republic of)', 'Venezuela (Bolivarian Republic of)', 'Viet Nam', 'Republic of Moldova', 'United Kingdom of Great Britain and Northern Ireland', 'United Republic of Tanzania', nan, \"Lao People's Democratic Republic\", 'Republic of North Macedonia', 'Russian Federation'}\n",
      "\n",
      "Countries in Population data but not in Air Pollution data:\n",
      "{'Tanzania', 'Falkland Islands', 'Caribbean Netherlands', 'Turks and Caicos', 'British Virgin Islands', 'Saint Barthelemy', 'Laos', 'Western Sahara', 'North Korea', 'United Kingdom', 'Wallis & Futuna', 'Micronesia', 'Sao Tome & Principe', 'San Marino', 'U.S. Virgin Islands', 'Mayotte', 'Macao', 'Venezuela', 'Eswatini', 'North Macedonia', 'St. Vincent & Grenadines', 'South Korea', 'Iran', 'Brunei ', 'Curaçao', 'Cook Islands', 'Vietnam', 'Moldova', 'Saint Pierre & Miquelon', 'Kiribati', 'Tuvalu', 'Puerto Rico', 'Niue', 'Saint Kitts & Nevis', 'Montserrat', 'Fiji', 'Liechtenstein', 'Saint Martin', 'Tokelau', 'Djibouti', 'Faeroe Islands', 'Bolivia', 'Holy See', 'Dominica', 'Russia', 'Tonga', 'Guadeloupe', 'Réunion', 'DR Congo', 'Isle of Man', 'Taiwan', 'French Guiana', 'Northern Mariana Islands', 'United States', 'Guam', 'Nauru', 'Samoa', 'Martinique', 'Czech Republic (Czechia)', 'Gibraltar', 'Grenada', 'Anguilla', 'American Samoa', 'Syria', 'Cayman Islands', 'Bahamas', 'Bermuda', 'Timor-Leste', 'Antigua and Barbuda', 'Sint Maarten', 'Saint Helena', 'Marshall Islands', 'French Polynesia', 'Hong Kong', 'Greenland', 'New Caledonia'}\n",
      "\n",
      "Countries in Air Pollution data but not in Population data after mapping:\n",
      "{nan, 'Kingdom of Eswatini', 'Republic of Moldova', 'Saint Kitts and Nevis'}\n",
      "\n",
      "Countries in Population data but not in Air Pollution data after mapping:\n",
      "{'Falkland Islands', 'Caribbean Netherlands', 'Turks and Caicos', 'British Virgin Islands', 'Saint Barthelemy', 'Western Sahara', 'North Korea', 'Micronesia', 'Wallis & Futuna', 'Sao Tome & Principe', 'U.S. Virgin Islands', 'San Marino', 'Mayotte', 'Macao', 'St. Vincent & Grenadines', 'Kiribati', 'Brunei ', 'Curaçao', 'Cook Islands', 'Moldova', 'Tuvalu', 'Saint Pierre & Miquelon', 'Puerto Rico', 'Niue', 'Saint Kitts & Nevis', 'Montserrat', 'Fiji', 'Liechtenstein', 'Saint Martin', 'Tokelau', 'Djibouti', 'Faeroe Islands', 'Dominica', 'Holy See', 'Tonga', 'Swaziland', 'Guadeloupe', 'Réunion', 'Isle of Man', 'Taiwan', 'French Guiana', 'Northern Mariana Islands', 'Guam', 'Nauru', 'Samoa', 'Martinique', 'Gibraltar', 'Grenada', 'Anguilla', 'American Samoa', 'Cayman Islands', 'Bahamas', 'Bermuda', 'Timor-Leste', 'Antigua and Barbuda', 'Sint Maarten', 'Saint Helena', 'Marshall Islands', 'French Polynesia', 'Hong Kong', 'Greenland', 'New Caledonia'}\n"
     ]
    }
   ],
   "source": [
    "\n",
    "# Extract unique country names from both datasets\n",
    "pollution_countries = set(air_pollution_df['Country'].unique())\n",
    "population_countries = set(population_df['Country'].unique())\n",
    "\n",
    "# Find the differences between the two sets of country names\n",
    "countries_in_pollution_not_population = pollution_countries - population_countries\n",
    "countries_in_population_not_pollution = population_countries - pollution_countries\n",
    "\n",
    "# Display the differences\n",
    "print(\"\\nCountries in Air Pollution data but not in Population data:\")\n",
    "print(countries_in_pollution_not_population)\n",
    "\n",
    "print(\"\\nCountries in Population data but not in Air Pollution data:\")\n",
    "print(countries_in_population_not_pollution)\n",
    "\n",
    "# Mapping for different country names\n",
    "mapping = {\n",
    "    'Russian Federation': 'Russia',\n",
    "    'United States of America': 'United States',\n",
    "    'Republic of North Macedonia': 'North Macedonia',\n",
    "    'United Kingdom of Great Britain and Northern Ireland': 'United Kingdom',\n",
    "    'United Republic of Tanzania': 'Tanzania',\n",
    "    'Viet Nam': 'Vietnam',\n",
    "    'Iran (Islamic Republic of)': 'Iran',\n",
    "    'Democratic Republic of the Congo': 'DR Congo',\n",
    "    'Czechia': 'Czech Republic (Czechia)',\n",
    "    \"Côte d'Ivoire\": \"Côte d'Ivoire\",\n",
    "    'Republic of Korea': 'South Korea',\n",
    "    'Syrian Arab Republic': 'Syria',\n",
    "    \"Lao People's Democratic Republic\": 'Laos',\n",
    "    'Bolivia (Plurinational State of)': 'Bolivia',\n",
    "    'Venezuela (Bolivarian Republic of)': 'Venezuela',\n",
    "    'State of Palestine': 'Palestine',\n",
    "    'Myanmar': 'Burma',  # Assuming Myanmar is referred to as Burma in one of the datasets\n",
    "    'Eswatini': 'Swaziland',  # Assuming Eswatini is referred to as Swaziland in one of the datasets\n",
    "}\n",
    "\n",
    "# Apply the mapping to align the country names\n",
    "air_pollution_df['Country'] = air_pollution_df['Country'].replace(mapping)\n",
    "population_df['Country'] = population_df['Country'].replace(mapping)\n",
    "\n",
    "# Recheck unique country names after mapping\n",
    "pollution_countries = set(air_pollution_df['Country'].unique())\n",
    "population_countries = set(population_df['Country'].unique())\n",
    "\n",
    "# Find the differences again after applying the mapping\n",
    "countries_in_pollution_not_population = pollution_countries - population_countries\n",
    "countries_in_population_not_pollution = population_countries - pollution_countries\n",
    "\n",
    "# Display the differences after mapping\n",
    "print(\"\\nCountries in Air Pollution data but not in Population data after mapping:\")\n",
    "print(countries_in_pollution_not_population)\n",
    "\n",
    "print(\"\\nCountries in Population data but not in Air Pollution data after mapping:\")\n",
    "print(countries_in_population_not_pollution)"
   ]
  },
  {
   "cell_type": "code",
   "execution_count": 8,
   "id": "3970966c-2a31-4241-bdc6-239f9680a093",
   "metadata": {},
   "outputs": [
    {
     "data": {
      "text/plain": [
       "175"
      ]
     },
     "execution_count": 8,
     "metadata": {},
     "output_type": "execute_result"
    }
   ],
   "source": [
    "air_pollution_df['Country'].nunique()\n"
   ]
  },
  {
   "cell_type": "code",
   "execution_count": 9,
   "id": "e7b76903-c813-4b3a-af0f-b0d0053a3819",
   "metadata": {},
   "outputs": [
    {
     "data": {
      "text/plain": [
       "234"
      ]
     },
     "execution_count": 9,
     "metadata": {},
     "output_type": "execute_result"
    }
   ],
   "source": [
    "population_df['Country'].nunique()"
   ]
  },
  {
   "cell_type": "code",
   "execution_count": null,
   "id": "d70616e6-4889-437c-93af-547c62a35dd7",
   "metadata": {},
   "outputs": [],
   "source": []
  }
 ],
 "metadata": {
  "kernelspec": {
   "display_name": "Python 3 (ipykernel)",
   "language": "python",
   "name": "python3"
  },
  "language_info": {
   "codemirror_mode": {
    "name": "ipython",
    "version": 3
   },
   "file_extension": ".py",
   "mimetype": "text/x-python",
   "name": "python",
   "nbconvert_exporter": "python",
   "pygments_lexer": "ipython3",
   "version": "3.11.7"
  }
 },
 "nbformat": 4,
 "nbformat_minor": 5
}
